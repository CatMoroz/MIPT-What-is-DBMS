{
 "cells": [
  {
   "cell_type": "code",
   "execution_count": 56,
   "metadata": {},
   "outputs": [],
   "source": [
    "import pandas as pd\n",
    "import sqlite3\n",
    "import codecs\n",
    "\n",
    "file_path = 'users1.csv'\n",
    "with codecs.open(file_path, 'r', encoding='koi8_r') as file:\n",
    "    user = pd.read_csv(file, sep='\\t', header=None, names=['user_id', 'email', 'geo'])\n",
    "\n",
    "file_path = 'log1.csv'\n",
    "log = pd.read_csv(file_path, header=None, names=['user_id', 'time', 'bet', 'win'])\n",
    "\n",
    "\n",
    "conn = sqlite3.connect('bets.s3db')\n",
    "cursor = conn.cursor()\n",
    "\n",
    "cursor.execute('''\n",
    "CREATE TABLE LOG\n",
    "(user_id VARCHAR(50) NOT NULL, \n",
    "time DATE, \n",
    "bet VARCHAR(50),\n",
    "win VARCHAR(50));\n",
    "''')\n",
    "\n",
    "cursor.execute('''\n",
    "CREATE TABLE USERS\n",
    "(user_id VARCHAR(50) NOT NULL,\n",
    "email VARCHAR(50),\n",
    "geo VARCHAR(50));\n",
    "''')\n",
    "\n",
    "\n",
    "\n",
    "for index, row in log.iterrows():\n",
    "    cursor.execute('''\n",
    "    INSERT INTO LOG (user_id, time, bet, win) VALUES (?, ?, ?, ?)\n",
    "    ''', (row['user_id'], row['time'], row['bet'], row['win']))\n",
    "\n",
    "for index, row in df.iterrows():\n",
    "    cursor.execute('''\n",
    "    INSERT INTO USERS (user_id, email, geo) VALUES (?, ?, ?)\n",
    "    ''', (row['user_id'], row['email'], row['geo']))\n",
    "\n",
    "conn.commit()\n",
    "conn.close()\n"
   ]
  },
  {
   "cell_type": "code",
   "execution_count": null,
   "metadata": {
    "vscode": {
     "languageId": "sql"
    }
   },
   "outputs": [],
   "source": [
    "CREATE TABLE LOG\n",
    "(user_id VARCHAR(50) NOT NULL, \n",
    "time DATE, \n",
    "bet VARCHAR(50),\n",
    "win VARCHAR(50));\n",
    "\n",
    "CREATE TABLE USERS\n",
    "(user_id VARCHAR(50) NOT NULL,\n",
    "email VARCHAR(50),\n",
    "geo VARCHAR(50));"
   ]
  },
  {
   "cell_type": "code",
   "execution_count": null,
   "metadata": {
    "vscode": {
     "languageId": "sql"
    }
   },
   "outputs": [],
   "source": [
    "--7) Запросы для чистки грязных данных (выполнять можно в любой последовательности): \n",
    "UPDATE LOG SET user_id  = substring(user_id, 30, 4) where user_id LIKE \n",
    "'%апись пользователя № - user_%';\n",
    "--Оставляем только id без слова user\n",
    "\n",
    "DELETE from LOG where user_id like '#error%';\n",
    "--Для чистки данных со значением #error\n",
    "\n",
    "DELETE from USERS where user_id not like '%User%';\n",
    "--Для чистки хедера в таблице USERS\n",
    "\n",
    "UPDATE USERS SET user_id  = substring(user_id, 5, 4);\n",
    "--Оставляем только id без слова user\n",
    "\n",
    "UPDATE LOG SET time  = substring(time, 2) where time LIKE '[%';\n",
    "UPDATE LOG SET time = substring(time, 1, 11)||'0'||substring(time,12) where LENGTH(time) = 18;\n",
    "--Обрабатываем время для работыв в задачах\n",
    "\n",
    "--8) ЗАДАЧИ\n",
    "\n",
    "SELECT MIN(count_attempts) from (SELECT user_id, COUNT(time) as count_attempts from (SELECT * from (LOG inner join (SELECT user_id, MIN(time) as min_time from LOG where bet != '' GROUP BY user_id) as A on LOG.user_id=A.user_id)) where time <= min_time GROUP BY user_id);\n",
    "\n",
    "SELECT AVG(percent_win) FROM (SELECT geo, (100*(win/bet)) as percent_win FROM LOG inner join USERS on LOG.user_id = USERS.user_id and bet != '') where percent_win > 0;\n",
    "\n",
    "SELECT user_id, (SUM(win) - SUM(bet)) as balance from LOG GROUP BY user_id\n",
    "\n",
    "SELECT geo FROM(SELECT geo, MAX(100*(win/bet)) as percent_win FROM LOG inner join USERS on LOG.user_id = USERS.user_id and bet != '');\n",
    "\n",
    "SELECT geo FROM (SELECT MAX(bet), geo FROM LOG inner join USERS on LOG.user_id = USERS.user_id and bet != '');\n",
    "\n",
    "\n",
    "--Для решения задачи необходимо выполнить запрос: \n",
    "SELECT AVG(Difference) from (SELECT user_id, (strftime('%s', min_time) - strftime('%s', MIN(time))) as Difference from (SELECT * from (LOG inner join (SELECT user_id, MIN(time) as min_time from LOG where bet != '' GROUP BY user_id) as A on LOG.user_id=A.user_id)) GROUP BY user_id)"
   ]
  }
 ],
 "metadata": {
  "kernelspec": {
   "display_name": "Python 3",
   "language": "python",
   "name": "python3"
  },
  "language_info": {
   "codemirror_mode": {
    "name": "ipython",
    "version": 3
   },
   "file_extension": ".py",
   "mimetype": "text/x-python",
   "name": "python",
   "nbconvert_exporter": "python",
   "pygments_lexer": "ipython3",
   "version": "3.9.6"
  }
 },
 "nbformat": 4,
 "nbformat_minor": 2
}
